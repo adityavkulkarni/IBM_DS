{
 "cells": [
  {
   "cell_type": "markdown",
   "id": "8ede8436-094f-4bcb-83c3-9a2097eabbd1",
   "metadata": {
    "tags": []
   },
   "source": [
    "# Data Science Tools and Ecosystem"
   ]
  },
  {
   "cell_type": "markdown",
   "id": "0044f74c-28ec-4b1b-88f1-03efbc79d3cd",
   "metadata": {},
   "source": [
    "In this notebook, Data Science Tools and Ecosystem are summarized."
   ]
  },
  {
   "cell_type": "markdown",
   "id": "15f230ef-9d2b-4265-b57f-9b5b29597829",
   "metadata": {},
   "source": [
    "Some of the popular languages that Data Scientists use are:\n",
    "1. Python\n",
    "2. R\n",
    "3. Scala"
   ]
  },
  {
   "cell_type": "markdown",
   "id": "164bd54c-8cc4-4755-bafa-0d5015608299",
   "metadata": {},
   "source": [
    "Some of the commonly used libraries used by Data Scientists include:\n",
    "1. pandas\n",
    "2. matplotlib\n",
    "3. seaborn\n",
    "4. numpy\n",
    "5. scipy\n",
    "6. sklearn"
   ]
  },
  {
   "cell_type": "markdown",
   "id": "6c8cd01c-9458-480c-afca-595e63b19692",
   "metadata": {
    "tags": []
   },
   "source": [
    "| Data Science Tools | \n",
    "| ----------- | \n",
    "| RStudio     |\n",
    "| Anaconda    | \n",
    "| Jupyter Notebooks|\n",
    "| Tableau Desktop |"
   ]
  },
  {
   "cell_type": "markdown",
   "id": "109c6291-6f36-4249-b0c1-e3e1b70389c9",
   "metadata": {},
   "source": [
    "Below are a few examples of evaluating arithmetic expressions in Python"
   ]
  },
  {
   "cell_type": "code",
   "execution_count": 4,
   "id": "1b637dd5-e088-45e2-8663-11a81f415c99",
   "metadata": {
    "tags": []
   },
   "outputs": [
    {
     "data": {
      "text/plain": [
       "17"
      ]
     },
     "execution_count": 4,
     "metadata": {},
     "output_type": "execute_result"
    }
   ],
   "source": [
    "# This a simple arithmetic expression to mutiply then add integers\n",
    "(3*4)+5"
   ]
  },
  {
   "cell_type": "code",
   "execution_count": 5,
   "id": "8219680c-26ee-408f-99cd-7e6a42046d52",
   "metadata": {
    "tags": []
   },
   "outputs": [
    {
     "name": "stdout",
     "output_type": "stream",
     "text": [
      "Hours: 3.3333333333333335\n"
     ]
    }
   ],
   "source": [
    "#This will convert 200 minutes to hours by diving by 60\n",
    "mins = 200\n",
    "hours = mins / 60\n",
    "print(f'Hours: {hours}')"
   ]
  },
  {
   "cell_type": "code",
   "execution_count": null,
   "id": "bc771ad7-60b0-4a6f-b62a-ed3fb97818c8",
   "metadata": {},
   "outputs": [],
   "source": []
  }
 ],
 "metadata": {
  "kernelspec": {
   "display_name": "Python",
   "language": "python",
   "name": "conda-env-python-py"
  },
  "language_info": {
   "codemirror_mode": {
    "name": "ipython",
    "version": 3
   },
   "file_extension": ".py",
   "mimetype": "text/x-python",
   "name": "python",
   "nbconvert_exporter": "python",
   "pygments_lexer": "ipython3",
   "version": "3.7.12"
  }
 },
 "nbformat": 4,
 "nbformat_minor": 5
}
